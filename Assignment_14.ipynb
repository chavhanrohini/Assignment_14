{
 "cells": [
  {
   "cell_type": "markdown",
   "id": "5203fbbf",
   "metadata": {},
   "source": [
    "## 1. What does RGBA stand for?\n",
    "   - RGBA stands for Red, Green, Blue, and Alpha. It is a color model that represents colors in digital images and graphics. In addition to the red, green, and blue color channels, it includes an alpha channel that represents the image's transparency or opacity.\n"
   ]
  },
  {
   "cell_type": "markdown",
   "id": "d2fbdd94",
   "metadata": {},
   "source": [
    "## 2. From the Pillow module, how do you get the RGBA value of any images?\n",
    "   - To get the RGBA value of an image using the Pillow module in Python, you can use the `getpixel()` method. Here's an example of how to do it:\n"
   ]
  },
  {
   "cell_type": "code",
   "execution_count": null,
   "id": "6f2048c7",
   "metadata": {},
   "outputs": [],
   "source": [
    "from PIL import Image\n",
    "\n",
    "   # Open an image\n",
    "img = Image.open(\"image.png\")\n",
    "\n",
    "   # Get the RGBA value at a specific pixel (x, y)\n",
    "rgba_value = img.getpixel((x, y))\n",
    "\n",
    "   # The 'rgba_value' will be a tuple containing (R, G, B, A) values.\n"
   ]
  },
  {
   "cell_type": "markdown",
   "id": "e25cc377",
   "metadata": {},
   "source": [
    "## 3. What is a box tuple, and how does it work?\n",
    "   - A box tuple in the context of the Pillow module is a tuple that defines a rectangular region within an image. It consists of four values: (left, upper, right, lower), where:\n",
    "     - `left` is the x-coordinate of the left edge of the rectangle.\n",
    "     - `upper` is the y-coordinate of the upper edge of the rectangle.\n",
    "     - `right` is the x-coordinate of the right edge of the rectangle.\n",
    "     - `lower` is the y-coordinate of the lower edge of the rectangle.\n",
    "   You can use a box tuple to specify a region of interest within an image for various image manipulation operations.\n"
   ]
  },
  {
   "cell_type": "markdown",
   "id": "a3cf5f8c",
   "metadata": {},
   "source": [
    "## 4. Use your image and load in a notebook then, How can you find out the width and height of an Image object?\n",
    "   - You can find out the width and height of an Image object using the `size` attribute. Here's an example:\n"
   ]
  },
  {
   "cell_type": "code",
   "execution_count": null,
   "id": "1b542a72",
   "metadata": {},
   "outputs": [],
   "source": [
    "from PIL import Image\n",
    "\n",
    "   # Open an image\n",
    "img = Image.open(\"image.png\")\n",
    "\n",
    "   # Get the width and height of the image\n",
    "width, height = img.size\n",
    "\n",
    "    print(\"Width:\", width)\n",
    "    print(\"Height:\", height)\n"
   ]
  },
  {
   "cell_type": "raw",
   "id": "0b77e0bf",
   "metadata": {},
   "source": [
    "5. What method would you call to get an Image object for a 100×100 image, excluding the lower-left quarter of it?\n",
    "   - To get an Image object for a 100×100 region of an image, excluding the lower-left quarter, you can use the `crop()` method. Here's an example:\n"
   ]
  },
  {
   "cell_type": "code",
   "execution_count": null,
   "id": "c3b8afbe",
   "metadata": {},
   "outputs": [],
   "source": [
    "\n",
    "   # Open an image\n",
    "img = Image.open(\"image.png\")\n",
    "\n",
    "   # Define a box tuple for the region you want to crop (100x100 excluding lower-left)\n",
    "box = (100, 100, 200, 200)\n",
    "\n",
    "   # Crop the image to the specified region\n",
    "cropped_img = img.crop(box)\n"
   ]
  },
  {
   "cell_type": "markdown",
   "id": "cd3019c4",
   "metadata": {},
   "source": [
    "## 6. After making changes to an Image object, how could you save it as an image file?\n",
    "   - To save an Image object as an image file after making changes, you can use the `save()` method. Here's an example:\n"
   ]
  },
  {
   "cell_type": "code",
   "execution_count": null,
   "id": "84f76315",
   "metadata": {},
   "outputs": [],
   "source": [
    "from PIL import Image\n",
    "\n",
    "   # Open an image\n",
    "img = Image.open(\"image.png\")\n",
    "\n",
    "   # Make changes to the image (e.g., resizing, filtering, etc.)\n",
    "\n",
    "   # Save the modified image to a file\n",
    "img.save(\"modified_image.png\")\n"
   ]
  },
  {
   "cell_type": "markdown",
   "id": "1d69eb80",
   "metadata": {},
   "source": [
    "## 7. What module contains Pillow’s shape-drawing code?\n",
    " \n",
    " - Pillow's shape-drawing code is contained within the `PIL.ImageDraw` module. You can use this module to draw shapes such as lines, rectangles, circles, and text on an Image object.\n"
   ]
  },
  {
   "cell_type": "markdown",
   "id": "f11c094f",
   "metadata": {},
   "source": [
    "## 8. Image objects do not have drawing methods. What kind of object does? How do you get this kind of object?\n",
    "   - Image objects themselves do not have drawing methods. To perform drawing operations on an image, you need to create a drawing object using the `PIL.ImageDraw.Draw()` function. Here's an example:\n"
   ]
  },
  {
   "cell_type": "code",
   "execution_count": null,
   "id": "8a49a05f",
   "metadata": {},
   "outputs": [],
   "source": [
    "from PIL import Image, ImageDraw\n",
    "\n",
    "   # Open an image\n",
    "img = Image.open(\"image.png\")\n",
    "   # Create a drawing object\n",
    "draw = ImageDraw.Draw(img)\n",
    "\n",
    "   # Now, you can use the 'draw' object to perform various drawing operations on the image.\n",
    "\n",
    "#  The `draw` object provides methods for drawing shapes, text, and other elements on the image.\n",
    "#You can use it to annotate or modify the image as needed."
   ]
  },
  {
   "cell_type": "code",
   "execution_count": null,
   "id": "fe3e1538",
   "metadata": {},
   "outputs": [],
   "source": []
  },
  {
   "cell_type": "code",
   "execution_count": null,
   "id": "7514b259",
   "metadata": {},
   "outputs": [],
   "source": []
  },
  {
   "cell_type": "code",
   "execution_count": null,
   "id": "4c1120c2",
   "metadata": {},
   "outputs": [],
   "source": []
  }
 ],
 "metadata": {
  "kernelspec": {
   "display_name": "Python 3 (ipykernel)",
   "language": "python",
   "name": "python3"
  },
  "language_info": {
   "codemirror_mode": {
    "name": "ipython",
    "version": 3
   },
   "file_extension": ".py",
   "mimetype": "text/x-python",
   "name": "python",
   "nbconvert_exporter": "python",
   "pygments_lexer": "ipython3",
   "version": "3.9.12"
  }
 },
 "nbformat": 4,
 "nbformat_minor": 5
}
